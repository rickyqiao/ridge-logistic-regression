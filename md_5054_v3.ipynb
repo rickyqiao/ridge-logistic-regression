{
 "cells": [
  {
   "cell_type": "code",
   "execution_count": 13,
   "metadata": {},
   "outputs": [],
   "source": [
    "import pandas as pd\n",
    "import numpy as np\n",
    "import math\n",
    "from sklearn.linear_model import LogisticRegression\n",
    "from sklearn.metrics import accuracy_score\n",
    "import warnings\n",
    "warnings.filterwarnings('ignore')"
   ]
  },
  {
   "cell_type": "code",
   "execution_count": 164,
   "metadata": {},
   "outputs": [],
   "source": [
    "card_train=pd.read_csv('D:/hkust_s2/5054/mid/card_train.csv', index_col=0)\n",
    "card_test=pd.read_csv('D:/hkust_s2/5054/mid/card_test.csv', index_col=0)"
   ]
  },
  {
   "cell_type": "code",
   "execution_count": 165,
   "metadata": {},
   "outputs": [],
   "source": [
    "clf = LogisticRegression(random_state=0).fit(card_train[card_train.columns.tolist()[1:-1]], card_train[card_train.columns.tolist()[-1]])\n",
    "predict=clf.predict_proba(card_test.iloc[:,1:-1])\n",
    "predict_1_prob=[i[1] for i in predict]\n",
    "predict_1_0=[1 if i>=0.5  else 0 for i in predict_1_prob ]"
   ]
  },
  {
   "cell_type": "code",
   "execution_count": 166,
   "metadata": {},
   "outputs": [
    {
     "name": "stdout",
     "output_type": "stream",
     "text": [
      "the overall error is 0.0008273894436519047\n"
     ]
    }
   ],
   "source": [
    "from sklearn.metrics import accuracy_score\n",
    "print('the overall error is '+str(1-accuracy_score(card_test['Class'], predict_1_0)))"
   ]
  },
  {
   "cell_type": "code",
   "execution_count": 103,
   "metadata": {},
   "outputs": [],
   "source": [
    "def find_threshold(threshold):\n",
    "    predict_tmp=[1 if i>=threshold  else 0 for i in predict_1_prob ]\n",
    "    return 1-accuracy_score(card_test['Class'], predict_tmp)\n",
    "\n",
    "init_error=1\n",
    "for ii in np.arange(0,1,0.02):\n",
    "    error_tmp=find_threshold(ii)\n",
    "    if error_tmp<init_error:\n",
    "        init_error=error_tmp\n",
    "        threshold_final=ii"
   ]
  },
  {
   "cell_type": "code",
   "execution_count": 104,
   "metadata": {},
   "outputs": [
    {
     "data": {
      "text/plain": [
       "array([[69977,    23],\n",
       "       [   26,    74]], dtype=int64)"
      ]
     },
     "execution_count": 104,
     "metadata": {},
     "output_type": "execute_result"
    }
   ],
   "source": [
    "from sklearn.metrics import confusion_matrix\n",
    "###01\n",
    "##0\n",
    "##1\n",
    "predict_tmp=[1 if i>=0.16  else 0 for i in predict_1_prob ]\n",
    "C_matrix=confusion_matrix(card_test['Class'], predict_tmp)\n",
    "C_matrix"
   ]
  },
  {
   "cell_type": "code",
   "execution_count": 137,
   "metadata": {},
   "outputs": [
    {
     "data": {
      "text/plain": [
       "0.8085106382978723"
      ]
     },
     "execution_count": 137,
     "metadata": {},
     "output_type": "execute_result"
    }
   ],
   "source": [
    "####sensitivity\n",
    "C_matrix[1][1]/(C_matrix[1][1]+C_matrix[0][1])"
   ]
  },
  {
   "cell_type": "code",
   "execution_count": 138,
   "metadata": {},
   "outputs": [
    {
     "data": {
      "text/plain": [
       "0.9996571722423793"
      ]
     },
     "execution_count": 138,
     "metadata": {},
     "output_type": "execute_result"
    }
   ],
   "source": [
    "####specificity\n",
    "C_matrix[0][0]/(C_matrix[0][0]+C_matrix[1][0])"
   ]
  },
  {
   "cell_type": "code",
   "execution_count": 139,
   "metadata": {},
   "outputs": [
    {
     "name": "stdout",
     "output_type": "stream",
     "text": [
      "when threshold=0.5, the overall error of LR is 0.0008273894436519047\n",
      "the perfect threshold is 0.16\n",
      " the sensitivity of LR with threshod 0.16 is 0.7628865979381443\n",
      " the specificity of LR with threshod 0.16 is 0.9996285873462566\n"
     ]
    }
   ],
   "source": [
    "\n",
    "clf = LogisticRegression(random_state=0).fit(card_train[card_train.columns.tolist()[1:-1]], card_train[card_train.columns.tolist()[-1]])\n",
    "predict=clf.predict_proba(card_test.iloc[:,1:-1])\n",
    "predict_1_prob=[i[1] for i in predict]\n",
    "predict_1_0=[1 if i>=0.5  else 0 for i in predict_1_prob ]\n",
    "print('when threshold=0.5, the overall error of LR is '+str(1-accuracy_score(card_test['Class'], predict_1_0)))\n",
    "def find_threshold(threshold):\n",
    "    predict_tmp=[1 if i>=threshold  else 0 for i in predict_1_prob ]\n",
    "    return 1-accuracy_score(card_test['Class'], predict_tmp)\n",
    "init_error=1\n",
    "for ii in np.arange(0,1,0.02):\n",
    "    error_tmp=find_threshold(ii)\n",
    "    if error_tmp<init_error:\n",
    "        init_error=error_tmp\n",
    "        threshold_final=ii\n",
    "print('the perfect threshold is '+str(threshold_final))\n",
    "predict_tmp=[1 if i>=threshold_final  else 0 for i in predict_1_prob ]\n",
    "C_matrix=confusion_matrix(card_test['Class'], predict_tmp)\n",
    "####sensitivity\n",
    "print(' the sensitivity of LR with threshod '+str(threshold_final) +' is '+str(C_matrix[1][1]/(C_matrix[1][1]+C_matrix[0][1])))\n",
    "####specificity\n",
    "print(' the specificity of LR with threshod '+str(threshold_final) +' is '+str(C_matrix[0][0]/(C_matrix[0][0]+C_matrix[1][0])))"
   ]
  },
  {
   "cell_type": "code",
   "execution_count": 140,
   "metadata": {},
   "outputs": [
    {
     "name": "stdout",
     "output_type": "stream",
     "text": [
      "when threshold=0.5, the overall error of LDA is 0.0006134094151212244\n",
      "the perfect threshold is 0.02\n",
      " the sensitivity of LDA with threshod 0.02 is 0.8085106382978723\n",
      " the specificity of LDA with threshod 0.02 is 0.9996571722423793\n"
     ]
    }
   ],
   "source": [
    "from sklearn.discriminant_analysis import LinearDiscriminantAnalysis\n",
    "clf = LinearDiscriminantAnalysis().fit(card_train[card_train.columns.tolist()[1:-1]], card_train[card_train.columns.tolist()[-1]])\n",
    "predict=clf.predict_proba(card_test.iloc[:,1:-1])\n",
    "predict_1_prob=[i[1] for i in predict]\n",
    "predict_1_0=[1 if i>=0.5  else 0 for i in predict_1_prob ]\n",
    "print('when threshold=0.5, the overall error of LDA is '+str(1-accuracy_score(card_test['Class'], predict_1_0)))\n",
    "def find_threshold(threshold):\n",
    "    predict_tmp=[1 if i>=threshold  else 0 for i in predict_1_prob ]\n",
    "    return 1-accuracy_score(card_test['Class'], predict_tmp)\n",
    "init_error=1\n",
    "for ii in np.arange(0,1,0.02):\n",
    "    error_tmp=find_threshold(ii)\n",
    "    if error_tmp<init_error:\n",
    "        init_error=error_tmp\n",
    "        threshold_final=ii\n",
    "print('the perfect threshold is '+str(threshold_final))\n",
    "predict_tmp=[1 if i>=threshold_final  else 0 for i in predict_1_prob ]\n",
    "C_matrix=confusion_matrix(card_test['Class'], predict_tmp)\n",
    "####sensitivity\n",
    "print(' the sensitivity of LDA with threshod '+str(threshold_final) +' is '+str(C_matrix[1][1]/(C_matrix[1][1]+C_matrix[0][1])))\n",
    "####specificity\n",
    "print(' the specificity of LDA with threshod '+str(threshold_final) +' is '+str(C_matrix[0][0]/(C_matrix[0][0]+C_matrix[1][0])))"
   ]
  },
  {
   "cell_type": "code",
   "execution_count": 141,
   "metadata": {},
   "outputs": [
    {
     "name": "stdout",
     "output_type": "stream",
     "text": [
      "when thershold=0.5, the overall error of QDA is 0.02286733238231098\n",
      "the perfect threshold is 0.98\n",
      " the sensitivity of QDA with threshod 0.98 is 0.06976744186046512\n",
      " the specificity of QDA with threshod 0.98 is 0.9997677659080353\n"
     ]
    }
   ],
   "source": [
    "from sklearn.discriminant_analysis import QuadraticDiscriminantAnalysis\n",
    "clf = QuadraticDiscriminantAnalysis().fit(card_train[card_train.columns.tolist()[1:-1]], card_train[card_train.columns.tolist()[-1]])\n",
    "predict=clf.predict_proba(card_test.iloc[:,1:-1])\n",
    "predict_1_prob=[i[1] for i in predict]\n",
    "predict_1_0=[1 if i>=0.5  else 0 for i in predict_1_prob ]\n",
    "print('when thershold=0.5, the overall error of QDA is '+str(1-accuracy_score(card_test['Class'], predict_1_0)))\n",
    "def find_threshold(threshold):\n",
    "    predict_tmp=[1 if i>=threshold  else 0 for i in predict_1_prob ]\n",
    "    return 1-accuracy_score(card_test['Class'], predict_tmp)\n",
    "init_error=1\n",
    "for ii in np.arange(0,1,0.02):\n",
    "    error_tmp=find_threshold(ii)\n",
    "    if error_tmp<init_error:\n",
    "        init_error=error_tmp\n",
    "        threshold_final=ii\n",
    "print('the perfect threshold is '+str(threshold_final))\n",
    "predict_tmp=[1 if i>=threshold_final  else 0 for i in predict_1_prob ]\n",
    "C_matrix=confusion_matrix(card_test['Class'], predict_tmp)\n",
    "####sensitivity\n",
    "print(' the sensitivity of QDA with threshod '+str(threshold_final) +' is '+str(C_matrix[1][1]/(C_matrix[1][1]+C_matrix[0][1])))\n",
    "####specificity\n",
    "print(' the specificity of QDA with threshod '+str(threshold_final) +' is '+str(C_matrix[0][0]/(C_matrix[0][0]+C_matrix[1][0])))"
   ]
  },
  {
   "cell_type": "code",
   "execution_count": 144,
   "metadata": {},
   "outputs": [
    {
     "name": "stdout",
     "output_type": "stream",
     "text": [
      "the best threshold of LR in 5CV is 0.2\n",
      " the sensitivity of LR with threshod 0.2 is 0.7717391304347826\n",
      " the specificity of LR with threshod 0.2 is 0.9995857616272426\n"
     ]
    }
   ],
   "source": [
    "from sklearn.model_selection import KFold\n",
    "def find_threshold(threshold):\n",
    "    predict_tmp=[1 if i>=threshold  else 0 for i in predict_1_prob ]\n",
    "    return 1-accuracy_score(card_test['Class'], predict_tmp)\n",
    "#kfold = KFold(n_splits=5, shuffle=True, random_state=1)\n",
    "# enumerate the splits and summarize the distributions\n",
    "X=card_train[card_train.columns.tolist()[1:-1]]\n",
    "Y=card_train[card_train.columns.tolist()[-1]]\n",
    "init_error=1\n",
    "error_list=[]\n",
    "for threshold in np.arange(0,1,0.1):\n",
    "    kfold = KFold(n_splits=5, shuffle=True, random_state=1)\n",
    "    error_tmp=0\n",
    "    for train_ix, test_ix in kfold.split(X):\n",
    "        # select rows\n",
    "        train_X, test_X = X.iloc[train_ix], X.iloc[test_ix]\n",
    "        train_y, test_y = Y.iloc[train_ix], Y.iloc[test_ix]\n",
    "        clf = LogisticRegression(random_state=0).fit(train_X, train_y)\n",
    "        predict=clf.predict_proba(card_test.iloc[:,1:-1])\n",
    "        predict_1_prob=[i[1] for i in predict]\n",
    "        predict_1_0=[1 if i>=threshold  else 0 for i in predict_1_prob ]\n",
    "        error_tmp+=1-accuracy_score(card_test['Class'], predict_1_0)\n",
    "    error_tmp=error_tmp/5\n",
    "    error_list.append(error_tmp)\n",
    "    if error_tmp<init_error:\n",
    "        init_error=error_tmp\n",
    "        threshold_final=threshold\n",
    "print('the best threshold of LR in 5CV is '+str(threshold_final))\n",
    "predict_tmp=[1 if i>=threshold_final  else 0 for i in predict_1_prob ]\n",
    "C_matrix=confusion_matrix(card_test['Class'], predict_tmp)\n",
    "####sensitivity\n",
    "print(' the sensitivity of LR with threshod '+str(threshold_final) +' is '+str(C_matrix[1][1]/(C_matrix[1][1]+C_matrix[0][1])))\n",
    "####specificity\n",
    "print(' the specificity of LR with threshod '+str(threshold_final) +' is '+str(C_matrix[0][0]/(C_matrix[0][0]+C_matrix[1][0])))"
   ]
  },
  {
   "cell_type": "code",
   "execution_count": 143,
   "metadata": {},
   "outputs": [
    {
     "data": {
      "text/plain": [
       "0.75"
      ]
     },
     "execution_count": 143,
     "metadata": {},
     "output_type": "execute_result"
    }
   ],
   "source": [
    "threshold"
   ]
  },
  {
   "cell_type": "code",
   "execution_count": 147,
   "metadata": {},
   "outputs": [
    {
     "data": {
      "image/png": "[encoded data removed]",
      "text/plain": [
       "<Figure size 432x288 with 1 Axes>"
      ]
     },
     "metadata": {
      "needs_background": "light"
     },
     "output_type": "display_data"
    }
   ],
   "source": [
    "from matplotlib import pyplot as plt\n",
    "%matplotlib inline\n",
    "plt.plot(np.arange(0,1,0.1),error_list)\n",
    "plt.title(\"LR loss\")\n",
    "plt.xlim(0.1,1)\n",
    "plt.ylim(0,0.002)\n",
    "plt.xlabel('threshold')\n",
    "plt.ylabel('loss')\n",
    "plt.show()"
   ]
  },
  {
   "cell_type": "code",
   "execution_count": 124,
   "metadata": {},
   "outputs": [
    {
     "name": "stdout",
     "output_type": "stream",
     "text": [
      "the overall error when threshold is 0.5 is 0.0008273894436519047\n",
      "the overall error when threshold is 0.16 get in search is 0.0006990014265335631\n",
      "the overall error when threshold is 0.2 get in 5-fold is 0.0006990014265335631\n"
     ]
    }
   ],
   "source": [
    "clf = LogisticRegression(random_state=0).fit(card_train[card_train.columns.tolist()[1:-1]], card_train[card_train.columns.tolist()[-1]])\n",
    "predict=clf.predict_proba(card_test.iloc[:,1:-1])\n",
    "predict_1_prob=[i[1] for i in predict]\n",
    "predict_1_0=[1 if i>=0.5  else 0 for i in predict_1_prob ]\n",
    "print('the overall error when threshold is 0.5 is '+str(1-accuracy_score(card_test['Class'], predict_1_0)))\n",
    "predict_1_0=[1 if i>=0.16  else 0 for i in predict_1_prob ]\n",
    "print('the overall error when threshold is 0.16 get in search is '+str(1-accuracy_score(card_test['Class'], predict_1_0)))\n",
    "predict_1_0=[1 if i>=0.2  else 0 for i in predict_1_prob ]\n",
    "print('the overall error when threshold is 0.2 get in 5-fold is '+str(1-accuracy_score(card_test['Class'], predict_1_0)))"
   ]
  },
  {
   "cell_type": "code",
   "execution_count": 148,
   "metadata": {},
   "outputs": [
    {
     "name": "stdout",
     "output_type": "stream",
     "text": [
      "the best threshold of LDA in 5CV is 0.05\n",
      " the sensitivity of LDA with threshod 0.05 is 0.8085106382978723\n",
      " the specificity of LDA with threshod 0.05 is 0.9996571722423793\n"
     ]
    }
   ],
   "source": [
    "from sklearn.model_selection import KFold\n",
    "def find_threshold(threshold):\n",
    "    predict_tmp=[1 if i>=threshold  else 0 for i in predict_1_prob ]\n",
    "    return 1-accuracy_score(card_test['Class'], predict_tmp)\n",
    "#kfold = KFold(n_splits=5, shuffle=True, random_state=1)\n",
    "# enumerate the splits and summarize the distributions\n",
    "X=card_train[card_train.columns.tolist()[1:-1]]\n",
    "Y=card_train[card_train.columns.tolist()[-1]]\n",
    "init_error=1\n",
    "error_list=[]\n",
    "for threshold in np.arange(0,1,0.05):\n",
    "    kfold = KFold(n_splits=5, shuffle=True, random_state=1)\n",
    "    error_tmp=0\n",
    "    for train_ix, test_ix in kfold.split(X):\n",
    "        # select rows\n",
    "        train_X, test_X = X.iloc[train_ix], X.iloc[test_ix]\n",
    "        train_y, test_y = Y.iloc[train_ix], Y.iloc[test_ix]\n",
    "        clf = LinearDiscriminantAnalysis().fit(train_X, train_y)\n",
    "        predict=clf.predict_proba(card_test.iloc[:,1:-1])\n",
    "        predict_1_prob=[i[1] for i in predict]\n",
    "        predict_1_0=[1 if i>=threshold  else 0 for i in predict_1_prob ]\n",
    "        error_tmp+=1-accuracy_score(card_test['Class'], predict_1_0)\n",
    "    error_tmp=error_tmp/5\n",
    "    error_list.append(error_tmp)\n",
    "    if error_tmp<init_error:\n",
    "        init_error=error_tmp\n",
    "        threshold_final=threshold\n",
    "print('the best threshold of LDA in 5CV is '+str(threshold_final))\n",
    "predict_tmp=[1 if i>=threshold_final  else 0 for i in predict_1_prob ]\n",
    "C_matrix=confusion_matrix(card_test['Class'], predict_tmp)\n",
    "####sensitivity\n",
    "print(' the sensitivity of LDA with threshod '+str(threshold_final) +' is '+str(C_matrix[1][1]/(C_matrix[1][1]+C_matrix[0][1])))\n",
    "####specificity\n",
    "print(' the specificity of LDA with threshod '+str(threshold_final) +' is '+str(C_matrix[0][0]/(C_matrix[0][0]+C_matrix[1][0])))"
   ]
  },
  {
   "cell_type": "markdown",
   "metadata": {},
   "source": [
    "# part 2"
   ]
  },
  {
   "cell_type": "code",
   "execution_count": 2,
   "metadata": {},
   "outputs": [],
   "source": [
    "f2 = open(\"D:/hkust_s2/5054/mid/Duke_train.txt\",\"r\")\n",
    "Duke_train = f2.readlines()\n",
    "f2.close()"
   ]
  },
  {
   "cell_type": "code",
   "execution_count": 3,
   "metadata": {},
   "outputs": [],
   "source": [
    "Duke_train=[ll.split(',') for ll in Duke_train]"
   ]
  },
  {
   "cell_type": "code",
   "execution_count": 4,
   "metadata": {},
   "outputs": [],
   "source": [
    "Duke_train_X=[]\n",
    "for line in Duke_train:\n",
    "    tmp=[]\n",
    "    for i in range(1,len(line)):\n",
    "        tmp.append(float(line[i].replace('\\n','')))\n",
    "    Duke_train_X.append(tmp)"
   ]
  },
  {
   "cell_type": "code",
   "execution_count": 5,
   "metadata": {},
   "outputs": [],
   "source": [
    "Duke_train_Y=[float(ll[0]) for ll in Duke_train]"
   ]
  },
  {
   "cell_type": "code",
   "execution_count": 6,
   "metadata": {},
   "outputs": [],
   "source": [
    "f2 = open(\"D:/hkust_s2/5054/mid/Duke_test.txt\",\"r\")\n",
    "Duke_test = f2.readlines()\n",
    "f2.close()\n",
    "Duke_test=[ll.split(',') for ll in Duke_test]\n",
    "Duke_test_X=[]\n",
    "for line in Duke_test:\n",
    "    tmp=[]\n",
    "    for i in range(1,len(line)):\n",
    "        tmp.append(float(line[i].replace('\\n','')))\n",
    "    Duke_test_X.append(tmp)\n",
    "Duke_test_Y=[float(ll[0]) for ll in Duke_test]"
   ]
  },
  {
   "cell_type": "code",
   "execution_count": 146,
   "metadata": {},
   "outputs": [],
   "source": [
    "LR = LogisticRegression(random_state=0).fit(Duke_train_X, Duke_train_Y)\n",
    "LDA = LinearDiscriminantAnalysis().fit(Duke_train_X, Duke_train_Y)\n",
    "QDA = QuadraticDiscriminantAnalysis().fit(pd.DataFrame(Duke_train_X), pd.DataFrame(Duke_train_Y))"
   ]
  },
  {
   "cell_type": "markdown",
   "metadata": {},
   "source": [
    "# 2. ridge regression"
   ]
  },
  {
   "cell_type": "code",
   "execution_count": 153,
   "metadata": {},
   "outputs": [],
   "source": [
    "def loss_func(w,x,y,lam):\n",
    "    loss=0\n",
    "    for i in range(0,len(x)):\n",
    "        #print(i)\n",
    "        try:\n",
    "            loss+=y[i]*np.dot(w,x[i])-math.log(1+math.exp(np.dot(w,x[i])))\n",
    "        except OverflowError:\n",
    "            loss+=(y[i]-1)*np.dot(w,x[i])\n",
    "        #print(loss)\n",
    "    loss-=lam*sum([p**2 for p in w[0]])\n",
    "    return loss"
   ]
  },
  {
   "cell_type": "code",
   "execution_count": 50,
   "metadata": {},
   "outputs": [],
   "source": [
    "def loss_func_d1_mat(w,x,y,lam):\n",
    "    b=np.array([y]).T-sigmoid(np.dot(x,w))\n",
    "    #print(b.shape)\n",
    "    grad=np.dot(x.T,b)-lam*w\n",
    "    return grad"
   ]
  },
  {
   "cell_type": "code",
   "execution_count": 9,
   "metadata": {},
   "outputs": [],
   "source": [
    "def loss_func_d2_mat(w,x,y,lam):\n",
    "    ###build a diagonal matrix first\n",
    "    diag_w=np.diag(np.ravel([np.exp(np.dot(x_tmp,w)/(1+math.exp(np.dot(x_tmp,w)))) for x_tmp in x]))\n",
    "    hessian = (-1 * np.dot(np.dot(x.T , diag_w) , x))-(lam*np.identity(len(x[0])))\n",
    "    return hessian"
   ]
  },
  {
   "cell_type": "code",
   "execution_count": 10,
   "metadata": {},
   "outputs": [],
   "source": [
    "def sigmoid(x):\n",
    "    return  1/(1 + np.exp(-x)) "
   ]
  },
  {
   "cell_type": "code",
   "execution_count": 139,
   "metadata": {},
   "outputs": [],
   "source": [
    "def train_ridge_LR(Duke_train_X,Duke_train_Y,lam):\n",
    "    w0=np.array([0 for i in range(len(Duke_train_X[0]))])\n",
    "    for iteration in range(251):\n",
    "        if iteration==0:\n",
    "            w_update=w0\n",
    "        loss_tmp=loss_func(w_update,np.array(Duke_train_X),np.array(Duke_train_Y),lam)\n",
    "        w_update2=w_update-\\\n",
    "        loss_func_d1(w_update,np.array(Duke_train_X),np.array(Duke_train_Y),lam)/loss_func_d2(w_update,np.array(Duke_train_X)\n",
    "                                                                                              ,np.array(Duke_train_Y),lam)\n",
    "        w_update=w_update2\n",
    "        #ttt=[sigmoid(np.dot(w_update,x_tmp)) for x_tmp in np.array(Duke_train_X)]\n",
    "        #predict_tmp=[1 if i>=0.5  else 0 for i in ttt ]\n",
    "    return loss_func(w_update,np.array(Duke_train_X),np.array(Duke_train_Y),lam),w_update"
   ]
  },
  {
   "cell_type": "code",
   "execution_count": 151,
   "metadata": {},
   "outputs": [],
   "source": [
    "def train_ridge_LR_mat(Duke_train_X,Duke_train_Y,lam):\n",
    "    w0=np.array([0 for i in range(len(Duke_train_X[0]))])\n",
    "    for iteration in range(15):\n",
    "        #print(iteration)\n",
    "        if iteration==0:\n",
    "            w_update=np.array([w0]).T\n",
    "        loss_tmp=loss_func(w_update.T,np.array(Duke_train_X),np.array(Duke_train_Y),lam)\n",
    "        grad=loss_func_d1_mat(w_update,np.array(Duke_train_X),np.array(Duke_train_Y),1)\n",
    "        hessian=loss_func_d2_mat(w_update,np.array(Duke_train_X),np.array(Duke_train_Y),1)\n",
    "        hessian_inv=np.linalg.inv(hessian)\n",
    "        w_update=w_update-np.dot(hessian_inv,grad)\n",
    "        #ttt=[sigmoid(np.dot(w_update,x_tmp)) for x_tmp in np.array(Duke_train_X)]\n",
    "        #predict_tmp=[1 if i>=0.5  else 0 for i in ttt ]\n",
    "    return loss_func(w_update.T,np.array(Duke_train_X),np.array(Duke_train_Y),lam),w_update"
   ]
  },
  {
   "cell_type": "code",
   "execution_count": 66,
   "metadata": {},
   "outputs": [
    {
     "name": "stdout",
     "output_type": "stream",
     "text": [
      "0\n",
      "1\n",
      "2\n",
      "3\n",
      "4\n",
      "Wall time: 4min 35s\n"
     ]
    },
    {
     "data": {
      "text/plain": [
       "(array([-9.6490801]), array([[-0.00129553],\n",
       "        [ 0.00253505],\n",
       "        [-0.00256999],\n",
       "        ...,\n",
       "        [ 0.00358974],\n",
       "        [-0.00053833],\n",
       "        [ 0.00299863]]))"
      ]
     },
     "execution_count": 66,
     "metadata": {},
     "output_type": "execute_result"
    }
   ],
   "source": [
    "%time train_ridge_LR_mat(X,Y,1)"
   ]
  },
  {
   "cell_type": "code",
   "execution_count": 88,
   "metadata": {},
   "outputs": [
    {
     "name": "stdout",
     "output_type": "stream",
     "text": [
      "0.5\n",
      " the lambda is: 0.5 , and the loss is : -14.770582539098555\n",
      "1\n",
      " the lambda is: 1 , and the loss is : -14.895968764686483\n",
      "2\n",
      " the lambda is: 2 , and the loss is : -15.146741215862345\n",
      "10\n",
      " the lambda is: 10 , and the loss is : -17.15292082526925\n",
      "50\n",
      " the lambda is: 50 , and the loss is : -27.183818872303743\n",
      "100\n",
      " the lambda is: 100 , and the loss is : -39.72244143109687\n",
      "the max loss in 5CV is -14.770582539098555\n",
      "the best lambda is 0.5\n"
     ]
    }
   ],
   "source": [
    "####mat type\n",
    "from sklearn.model_selection import KFold\n",
    "def find_threshold(threshold):\n",
    "    predict_tmp=[1 if i>=threshold  else 0 for i in predict_1_prob ]\n",
    "    return 1-accuracy_score(card_test['Class'], predict_tmp)\n",
    "#kfold = KFold(n_splits=5, shuffle=True, random_state=1)\n",
    "# enumerate the splits and summarize the distributions\n",
    "X=np.array(Duke_train_X)\n",
    "Y=np.array(Duke_train_Y)\n",
    "init_error=-999999\n",
    "item_time=0\n",
    "for lam in [0.5,1,2,10,50,100]:\n",
    "    print(lam)\n",
    "    kfold = KFold(n_splits=5, shuffle=True, random_state=1)\n",
    "    loss_tmp=0\n",
    "    for train_ix, test_ix in kfold.split(X):\n",
    "        # select rows\n",
    "        item_time+=1\n",
    "        #print(item_time)\n",
    "        train_X, test_X = X[train_ix], X[test_ix]\n",
    "        train_y, test_y = Y[train_ix], Y[test_ix]\n",
    "        loss_train,weight = train_ridge_LR_mat(train_X, train_y,lam)\n",
    "        #predict=[sigmoid(np.dot(weight,x_tmp)) for x_tmp in np.array(test_X)]\n",
    "        loss_test=loss_func(weight.T,test_X,test_y,lam)\n",
    "        loss_tmp+=loss_test[0]\n",
    "    loss_tmp=loss_tmp/5\n",
    "    if loss_tmp>init_error:\n",
    "        init_error=loss_tmp\n",
    "        best_lam=lam\n",
    "    print(' the lambda is: '+str(lam)+' , and the loss is : '+str(loss_tmp))\n",
    "print('the max loss in 5CV is '+str(init_error))\n",
    "print('the best lambda is '+str(best_lam))"
   ]
  },
  {
   "cell_type": "code",
   "execution_count": 136,
   "metadata": {},
   "outputs": [
    {
     "name": "stdout",
     "output_type": "stream",
     "text": [
      "0.5\n",
      " the lambda is: 0.5 , and the loss is : -14.770582539098555 and the accuracy is 0.7692307692307693\n",
      "1\n",
      " the lambda is: 1 , and the loss is : -14.895968764686483 and the accuracy is 0.7692307692307693\n",
      "10\n"
     ]
    },
    {
     "ename": "KeyboardInterrupt",
     "evalue": "",
     "output_type": "error",
     "traceback": [
      "\u001b[1;31m---------------------------------------------------------------------------\u001b[0m",
      "\u001b[1;31mKeyboardInterrupt\u001b[0m                         Traceback (most recent call last)",
      "\u001b[1;32m<ipython-input-136-45595772ff61>\u001b[0m in \u001b[0;36m<module>\u001b[1;34m\u001b[0m\n\u001b[0;32m     20\u001b[0m         \u001b[0mtrain_X\u001b[0m\u001b[1;33m,\u001b[0m \u001b[0mtest_X\u001b[0m \u001b[1;33m=\u001b[0m \u001b[0mX\u001b[0m\u001b[1;33m[\u001b[0m\u001b[0mtrain_ix\u001b[0m\u001b[1;33m]\u001b[0m\u001b[1;33m,\u001b[0m \u001b[0mX\u001b[0m\u001b[1;33m[\u001b[0m\u001b[0mtest_ix\u001b[0m\u001b[1;33m]\u001b[0m\u001b[1;33m\u001b[0m\u001b[1;33m\u001b[0m\u001b[0m\n\u001b[0;32m     21\u001b[0m         \u001b[0mtrain_y\u001b[0m\u001b[1;33m,\u001b[0m \u001b[0mtest_y\u001b[0m \u001b[1;33m=\u001b[0m \u001b[0mY\u001b[0m\u001b[1;33m[\u001b[0m\u001b[0mtrain_ix\u001b[0m\u001b[1;33m]\u001b[0m\u001b[1;33m,\u001b[0m \u001b[0mY\u001b[0m\u001b[1;33m[\u001b[0m\u001b[0mtest_ix\u001b[0m\u001b[1;33m]\u001b[0m\u001b[1;33m\u001b[0m\u001b[1;33m\u001b[0m\u001b[0m\n\u001b[1;32m---> 22\u001b[1;33m         \u001b[0mloss_train\u001b[0m\u001b[1;33m,\u001b[0m\u001b[0mweight\u001b[0m \u001b[1;33m=\u001b[0m \u001b[0mtrain_ridge_LR_mat\u001b[0m\u001b[1;33m(\u001b[0m\u001b[0mtrain_X\u001b[0m\u001b[1;33m,\u001b[0m \u001b[0mtrain_y\u001b[0m\u001b[1;33m,\u001b[0m\u001b[0mlam\u001b[0m\u001b[1;33m)\u001b[0m\u001b[1;33m\u001b[0m\u001b[1;33m\u001b[0m\u001b[0m\n\u001b[0m\u001b[0;32m     23\u001b[0m         \u001b[1;31m#predict=[sigmoid(np.dot(weight.T,x_tmp)[0]) for x_tmp in np.array(test_X)]\u001b[0m\u001b[1;33m\u001b[0m\u001b[1;33m\u001b[0m\u001b[1;33m\u001b[0m\u001b[0m\n\u001b[0;32m     24\u001b[0m         \u001b[1;31m#predict_1_0=[1 if i>=0.5  else 0 for i in predict ]\u001b[0m\u001b[1;33m\u001b[0m\u001b[1;33m\u001b[0m\u001b[1;33m\u001b[0m\u001b[0m\n",
      "\u001b[1;32m<ipython-input-87-65b6eb6fdcb1>\u001b[0m in \u001b[0;36mtrain_ridge_LR_mat\u001b[1;34m(Duke_train_X, Duke_train_Y, lam)\u001b[0m\n\u001b[0;32m      8\u001b[0m         \u001b[0mgrad\u001b[0m\u001b[1;33m=\u001b[0m\u001b[0mloss_func_d1_mat\u001b[0m\u001b[1;33m(\u001b[0m\u001b[0mw_update\u001b[0m\u001b[1;33m,\u001b[0m\u001b[0mnp\u001b[0m\u001b[1;33m.\u001b[0m\u001b[0marray\u001b[0m\u001b[1;33m(\u001b[0m\u001b[0mDuke_train_X\u001b[0m\u001b[1;33m)\u001b[0m\u001b[1;33m,\u001b[0m\u001b[0mnp\u001b[0m\u001b[1;33m.\u001b[0m\u001b[0marray\u001b[0m\u001b[1;33m(\u001b[0m\u001b[0mDuke_train_Y\u001b[0m\u001b[1;33m)\u001b[0m\u001b[1;33m,\u001b[0m\u001b[1;36m1\u001b[0m\u001b[1;33m)\u001b[0m\u001b[1;33m\u001b[0m\u001b[1;33m\u001b[0m\u001b[0m\n\u001b[0;32m      9\u001b[0m         \u001b[0mhessian\u001b[0m\u001b[1;33m=\u001b[0m\u001b[0mloss_func_d2_mat\u001b[0m\u001b[1;33m(\u001b[0m\u001b[0mw_update\u001b[0m\u001b[1;33m,\u001b[0m\u001b[0mnp\u001b[0m\u001b[1;33m.\u001b[0m\u001b[0marray\u001b[0m\u001b[1;33m(\u001b[0m\u001b[0mDuke_train_X\u001b[0m\u001b[1;33m)\u001b[0m\u001b[1;33m,\u001b[0m\u001b[0mnp\u001b[0m\u001b[1;33m.\u001b[0m\u001b[0marray\u001b[0m\u001b[1;33m(\u001b[0m\u001b[0mDuke_train_Y\u001b[0m\u001b[1;33m)\u001b[0m\u001b[1;33m,\u001b[0m\u001b[1;36m1\u001b[0m\u001b[1;33m)\u001b[0m\u001b[1;33m\u001b[0m\u001b[1;33m\u001b[0m\u001b[0m\n\u001b[1;32m---> 10\u001b[1;33m         \u001b[0mhessian_inv\u001b[0m\u001b[1;33m=\u001b[0m\u001b[0mnp\u001b[0m\u001b[1;33m.\u001b[0m\u001b[0mlinalg\u001b[0m\u001b[1;33m.\u001b[0m\u001b[0minv\u001b[0m\u001b[1;33m(\u001b[0m\u001b[0mhessian\u001b[0m\u001b[1;33m)\u001b[0m\u001b[1;33m\u001b[0m\u001b[1;33m\u001b[0m\u001b[0m\n\u001b[0m\u001b[0;32m     11\u001b[0m         \u001b[0mw_update\u001b[0m\u001b[1;33m=\u001b[0m\u001b[0mw_update\u001b[0m\u001b[1;33m-\u001b[0m\u001b[0mnp\u001b[0m\u001b[1;33m.\u001b[0m\u001b[0mdot\u001b[0m\u001b[1;33m(\u001b[0m\u001b[0mhessian_inv\u001b[0m\u001b[1;33m,\u001b[0m\u001b[0mgrad\u001b[0m\u001b[1;33m)\u001b[0m\u001b[1;33m\u001b[0m\u001b[1;33m\u001b[0m\u001b[0m\n\u001b[0;32m     12\u001b[0m         \u001b[1;31m#ttt=[sigmoid(np.dot(w_update,x_tmp)) for x_tmp in np.array(Duke_train_X)]\u001b[0m\u001b[1;33m\u001b[0m\u001b[1;33m\u001b[0m\u001b[1;33m\u001b[0m\u001b[0m\n",
      "\u001b[1;32mD:\\anaconda\\lib\\site-packages\\numpy\\linalg\\linalg.py\u001b[0m in \u001b[0;36minv\u001b[1;34m(a)\u001b[0m\n\u001b[0;32m    549\u001b[0m     \u001b[0msignature\u001b[0m \u001b[1;33m=\u001b[0m \u001b[1;34m'D->D'\u001b[0m \u001b[1;32mif\u001b[0m \u001b[0misComplexType\u001b[0m\u001b[1;33m(\u001b[0m\u001b[0mt\u001b[0m\u001b[1;33m)\u001b[0m \u001b[1;32melse\u001b[0m \u001b[1;34m'd->d'\u001b[0m\u001b[1;33m\u001b[0m\u001b[1;33m\u001b[0m\u001b[0m\n\u001b[0;32m    550\u001b[0m     \u001b[0mextobj\u001b[0m \u001b[1;33m=\u001b[0m \u001b[0mget_linalg_error_extobj\u001b[0m\u001b[1;33m(\u001b[0m\u001b[0m_raise_linalgerror_singular\u001b[0m\u001b[1;33m)\u001b[0m\u001b[1;33m\u001b[0m\u001b[1;33m\u001b[0m\u001b[0m\n\u001b[1;32m--> 551\u001b[1;33m     \u001b[0mainv\u001b[0m \u001b[1;33m=\u001b[0m \u001b[0m_umath_linalg\u001b[0m\u001b[1;33m.\u001b[0m\u001b[0minv\u001b[0m\u001b[1;33m(\u001b[0m\u001b[0ma\u001b[0m\u001b[1;33m,\u001b[0m \u001b[0msignature\u001b[0m\u001b[1;33m=\u001b[0m\u001b[0msignature\u001b[0m\u001b[1;33m,\u001b[0m \u001b[0mextobj\u001b[0m\u001b[1;33m=\u001b[0m\u001b[0mextobj\u001b[0m\u001b[1;33m)\u001b[0m\u001b[1;33m\u001b[0m\u001b[1;33m\u001b[0m\u001b[0m\n\u001b[0m\u001b[0;32m    552\u001b[0m     \u001b[1;32mreturn\u001b[0m \u001b[0mwrap\u001b[0m\u001b[1;33m(\u001b[0m\u001b[0mainv\u001b[0m\u001b[1;33m.\u001b[0m\u001b[0mastype\u001b[0m\u001b[1;33m(\u001b[0m\u001b[0mresult_t\u001b[0m\u001b[1;33m,\u001b[0m \u001b[0mcopy\u001b[0m\u001b[1;33m=\u001b[0m\u001b[1;32mFalse\u001b[0m\u001b[1;33m)\u001b[0m\u001b[1;33m)\u001b[0m\u001b[1;33m\u001b[0m\u001b[1;33m\u001b[0m\u001b[0m\n\u001b[0;32m    553\u001b[0m \u001b[1;33m\u001b[0m\u001b[0m\n",
      "\u001b[1;31mKeyboardInterrupt\u001b[0m: "
     ]
    }
   ],
   "source": [
    "####mat type\n",
    "from sklearn.model_selection import KFold\n",
    "def find_threshold(threshold):\n",
    "    predict_tmp=[1 if i>=threshold  else 0 for i in predict_1_prob ]\n",
    "    return 1-accuracy_score(card_test['Class'], predict_tmp)\n",
    "#kfold = KFold(n_splits=5, shuffle=True, random_state=1)\n",
    "# enumerate the splits and summarize the distributions\n",
    "X=np.array(Duke_train_X)\n",
    "Y=np.array(Duke_train_Y)\n",
    "init_error=-999999\n",
    "item_time=0\n",
    "for lam in [0.5,1,10,100]:\n",
    "    print(lam)\n",
    "    kfold = KFold(n_splits=5, shuffle=True, random_state=1)\n",
    "    loss_tmp=0\n",
    "    for train_ix, test_ix in kfold.split(X):\n",
    "        # select rows\n",
    "        item_time+=1\n",
    "        #print(item_time)\n",
    "        train_X, test_X = X[train_ix], X[test_ix]\n",
    "        train_y, test_y = Y[train_ix], Y[test_ix]\n",
    "        loss_train,weight = train_ridge_LR_mat(train_X, train_y,lam)\n",
    "        #predict=[sigmoid(np.dot(weight.T,x_tmp)[0]) for x_tmp in np.array(test_X)]\n",
    "        #predict_1_0=[1 if i>=0.5  else 0 for i in predict ]\n",
    "        #accuracy_score(test_y, predict)\n",
    "        loss_test=loss_func(weight.T,test_X,test_y,lam)\n",
    "        loss_tmp+=loss_test[0]\n",
    "    loss_tmp=loss_tmp/5\n",
    "    if loss_tmp>init_error:\n",
    "        init_error=loss_tmp\n",
    "        best_lam=lam\n",
    "        predict=[sigmoid(np.dot(weight.T,x_tmp)[0]) for x_tmp in np.array(test_X)]\n",
    "        predict_1_0=[1 if i>=0.5  else 0 for i in predict ]\n",
    "    print(' the lambda is: '+str(lam)+' , and the loss is : '+str(loss_tmp)+' and the accuracy is '+str(accuracy_score(test_y, predict_1_0)))\n",
    "print('the max loss in 5CV is '+str(init_error))\n",
    "print('the best lambda is '+str(best_lam))"
   ]
  },
  {
   "cell_type": "code",
   "execution_count": 130,
   "metadata": {},
   "outputs": [
    {
     "data": {
      "text/plain": [
       "8.541307335516482"
      ]
     },
     "execution_count": 130,
     "metadata": {},
     "output_type": "execute_result"
    }
   ],
   "source": [
    "np.dot(weight.T,np.array(test_X)[0])[0]"
   ]
  },
  {
   "cell_type": "code",
   "execution_count": 154,
   "metadata": {},
   "outputs": [],
   "source": [
    "####we choose lambda  as 0.5\n",
    "loss,weight=train_ridge_LR_mat(Duke_train_X,Duke_train_Y,0.5)"
   ]
  },
  {
   "cell_type": "code",
   "execution_count": null,
   "metadata": {},
   "outputs": [],
   "source": [
    "predict=[sigmoid(np.dot(weight,x_tmp)) for x_tmp in np.array(Duke_test_X)]\n",
    "predict_1_0=[1 if i>=0.5  else 0 for i in predict ]\n",
    "print('the overall error is '+str(1-accuracy_score(Duke_test_Y, predict_1_0)))"
   ]
  },
  {
   "cell_type": "markdown",
   "metadata": {},
   "source": [
    "# LDA"
   ]
  },
  {
   "cell_type": "code",
   "execution_count": 7,
   "metadata": {},
   "outputs": [],
   "source": [
    "def u_k(X,Y,target):\n",
    "    index=[i for i in range(len(Y)) if Y[i] == target]\n",
    "    return np.mean(X[index], axis=0)"
   ]
  },
  {
   "cell_type": "code",
   "execution_count": 8,
   "metadata": {},
   "outputs": [],
   "source": [
    "def pi_k(Y,target):\n",
    "    return len([i for i in range(len(Y)) if Y[i] == target])/len(Y)"
   ]
  },
  {
   "cell_type": "code",
   "execution_count": 9,
   "metadata": {},
   "outputs": [],
   "source": [
    "def ridge_matrix(X,Y,target_list,lam):\n",
    "    init_mat=np.zeros([len(X[0]),len(X[0])])\n",
    "    for target in target_list:\n",
    "        uk=u_k(X,Y,target)\n",
    "        index_list=[i for i in range(len(Y)) if Y[i] == target]\n",
    "        cov_matrix=np.cov(X[index_list].T)\n",
    "        init_mat+=cov_matrix\n",
    "    init_mat=init_mat/(len(X)-len(target_list))\n",
    "    identity_mat=np.eye(len(X[0]))\n",
    "    init_mat+=lam*identity_mat\n",
    "    return init_mat"
   ]
  },
  {
   "cell_type": "code",
   "execution_count": 10,
   "metadata": {},
   "outputs": [],
   "source": [
    "def dirac(x,r_mat_inv,X,Y,target):\n",
    "    uk=u_k(X,Y,target)\n",
    "    #uk_inv=np.linalg.inv(uk)\n",
    "    #r_matrix=ridge_matrix(X,Y,[0,1],lam)\n",
    "    #r_mat_inv=np.linalg.inv(r_matrix)\n",
    "    pik=pi_k(Y,target)\n",
    "    #result=np.dot(np.dot(uk.T,r_mat_inv),x)-0.5*np.dot(np.dot(uk.T,r_mat_inv),uk)+math.log(pik)\n",
    "    result=np.dot(np.dot(x.T,r_mat_inv),uk)-0.5*np.dot(np.dot(uk.T,r_mat_inv),uk)+math.log(pik)\n",
    "    return result"
   ]
  },
  {
   "cell_type": "code",
   "execution_count": 11,
   "metadata": {},
   "outputs": [],
   "source": [
    "def judge(x,r_mat_inv,train_X,train_Y):\n",
    "    pred_1=dirac(x,r_mat_inv,train_X,train_Y,1)\n",
    "    pred_0=dirac(x,r_mat_inv,train_X,train_Y,0)\n",
    "    if pred_1>pred_0:\n",
    "        return 1\n",
    "    else:\n",
    "        return 0"
   ]
  },
  {
   "cell_type": "code",
   "execution_count": 85,
   "metadata": {},
   "outputs": [
    {
     "name": "stdout",
     "output_type": "stream",
     "text": [
      "0\n",
      " the lambda is: 0 , and the error_rate is : 0.5505494505494506\n",
      "0.1\n",
      " the lambda is: 0.1 , and the error_rate is : 0.04615384615384614\n",
      "0.5\n",
      " the lambda is: 0.5 , and the error_rate is : 0.04615384615384614\n",
      "1\n",
      " the lambda is: 1 , and the error_rate is : 0.04615384615384614\n",
      "2\n",
      " the lambda is: 2 , and the error_rate is : 0.04615384615384614\n",
      "10\n",
      " the lambda is: 10 , and the error_rate is : 0.07692307692307691\n",
      "50\n",
      " the lambda is: 50 , and the error_rate is : 0.16813186813186812\n",
      "100\n",
      " the lambda is: 100 , and the error_rate is : 0.2593406593406593\n",
      "the min error_rate in 5CV is 0.04615384615384614\n",
      "the best lambda is 0.1\n"
     ]
    }
   ],
   "source": [
    "###LDA K-fold\n",
    "def find_threshold(threshold):\n",
    "    predict_tmp=[1 if i>=threshold  else 0 for i in predict_1_prob ]\n",
    "    return 1-accuracy_score(card_test['Class'], predict_tmp)\n",
    "#kfold = KFold(n_splits=5, shuffle=True, random_state=1)\n",
    "# enumerate the splits and summarize the distributions\n",
    "X=np.array(Duke_train_X)\n",
    "Y=np.array(Duke_train_Y)\n",
    "init_error=999999\n",
    "for lam in [0,0.1,0.5,1,2,10,50,100]:\n",
    "    print(lam)\n",
    "    kfold = KFold(n_splits=5, shuffle=True, random_state=1)\n",
    "    error_rate=0\n",
    "    for train_ix, test_ix in kfold.split(X):\n",
    "        # select rows\n",
    "        train_X, test_X = X[train_ix], X[test_ix]\n",
    "        train_y, test_y = Y[train_ix], Y[test_ix]\n",
    "        r_matrix=ridge_matrix(train_X,train_y,[0,1],lam)\n",
    "        r_mat_inv=np.linalg.inv(r_matrix)\n",
    "        predict=[judge(x_tmp,r_mat_inv,train_X,train_y) for x_tmp in test_X ]\n",
    "        error_rate+=1-accuracy_score(test_y, predict)\n",
    "    error_rate=error_rate/5\n",
    "    if error_rate<init_error:\n",
    "        init_error=error_rate\n",
    "        best_lam=lam\n",
    "    print(' the lambda is: '+str(lam)+' , and the error_rate is : '+str(error_rate))\n",
    "print('the min error_rate in 5CV is '+str(init_error))\n",
    "print('the best lambda is '+str(best_lam))"
   ]
  },
  {
   "cell_type": "code",
   "execution_count": null,
   "metadata": {},
   "outputs": [],
   "source": [
    "###so we choose lambda as 1\n",
    "r_matrix=ridge_matrix(np.array(Duke_train_X),np.array(Duke_train_Y),[0,1],1)\n",
    "r_mat_inv=np.linalg.inv(r_matrix)\n",
    "predict=[judge(x_tmp,r_mat_inv,train_X,train_y) for x_tmp in np.array(Duke_test_X) ]\n",
    "print('the overall error is '+str(1-accuracy_score(Duke_test_Y, predict)))"
   ]
  },
  {
   "cell_type": "code",
   "execution_count": 16,
   "metadata": {},
   "outputs": [
    {
     "name": "stdout",
     "output_type": "stream",
     "text": [
      "the overall error is 0.09999999999999998\n"
     ]
    }
   ],
   "source": [
    "predict=[judge(x_tmp,r_mat_inv,np.array(Duke_train_X),np.array(Duke_train_Y)) for x_tmp in np.array(Duke_test_X) ]\n",
    "print('the overall error is '+str(1-accuracy_score(Duke_test_Y, predict)))"
   ]
  },
  {
   "cell_type": "code",
   "execution_count": null,
   "metadata": {},
   "outputs": [],
   "source": []
  }
 ],
 "metadata": {
  "kernelspec": {
   "display_name": "Python 3",
   "language": "python",
   "name": "python3"
  },
  "language_info": {
   "codemirror_mode": {
    "name": "ipython",
    "version": 3
   },
   "file_extension": ".py",
   "mimetype": "text/x-python",
   "name": "python",
   "nbconvert_exporter": "python",
   "pygments_lexer": "ipython3",
   "version": "3.7.3"
  }
 },
 "nbformat": 4,
 "nbformat_minor": 2
}
